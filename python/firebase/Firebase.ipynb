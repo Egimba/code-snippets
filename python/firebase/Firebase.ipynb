{
 "cells": [
  {
   "cell_type": "markdown",
   "metadata": {},
   "source": [
    "# Firebase CRUD"
   ]
  },
  {
   "cell_type": "markdown",
   "metadata": {},
   "source": [
    "You need to rename the `async.py` file found in `~/anaconda3/lib/python3.7/site-packages/firebase`\n",
    "\n",
    "Then change the name of that file referenced in the `__init__.py` and `firebase.py` files.\n",
    "\n",
    "`asnyc` is a reserved keyword in Python, so running the firebase code without making those changes will result in an error.\n",
    "\n",
    "This follows the YouTube tutorial by Parwiz Forogh at https://www.youtube.com/watch?v=rKuGCQda_Qo"
   ]
  },
  {
   "cell_type": "markdown",
   "metadata": {},
   "source": [
    "### Create"
   ]
  },
  {
   "cell_type": "code",
   "execution_count": 1,
   "metadata": {},
   "outputs": [
    {
     "name": "stdout",
     "output_type": "stream",
     "text": [
      "Record Created\n"
     ]
    }
   ],
   "source": [
    "from firebase import firebase\n",
    "\n",
    "firebase = firebase.FirebaseApplication(\"https://tutorial-d6469.firebaseio.com/\", None)\n",
    "data = {\n",
    "    \"Name\" : \"Eric\",\n",
    "    \"Location\" : \"Nairobi\"\n",
    "}\n",
    "\n",
    "result = firebase.post(\"/tutorial-d6469/Member\", data)\n",
    "\n",
    "print(\"Record Created\")"
   ]
  },
  {
   "cell_type": "markdown",
   "metadata": {},
   "source": [
    "### Read"
   ]
  },
  {
   "cell_type": "code",
   "execution_count": 2,
   "metadata": {},
   "outputs": [
    {
     "name": "stdout",
     "output_type": "stream",
     "text": [
      "{'-MBaKIuS1GBPZPZ6mjMF': {'Location': 'Nairobi', 'Name': 'Eric'}, '-MBaKNFnDTko5QFyvTb9': {'Location': 'Boston', 'Name': 'Mark'}, '-MBaKPJHdCN7kCx_jMdJ': {'Location': 'London', 'Name': 'Andrew'}, '-MBaKUBaz_yN77KdPlQd': {'Location': 'Nairobi', 'Name': 'Eric'}}\n"
     ]
    }
   ],
   "source": [
    "from firebase import firebase\n",
    "\n",
    "firebase = firebase.FirebaseApplication(\"https://tutorial-d6469.firebaseio.com/\", None)\n",
    "\n",
    "result = firebase.get(\"/tutorial-d6469/Member\", \"\")\n",
    "\n",
    "print(result)"
   ]
  },
  {
   "cell_type": "markdown",
   "metadata": {},
   "source": [
    "### Update"
   ]
  },
  {
   "cell_type": "code",
   "execution_count": 3,
   "metadata": {},
   "outputs": [
    {
     "name": "stdout",
     "output_type": "stream",
     "text": [
      "Record Updated\n"
     ]
    }
   ],
   "source": [
    "from firebase import firebase\n",
    "\n",
    "firebase = firebase.FirebaseApplication(\"https://tutorial-d6469.firebaseio.com/\", None)\n",
    "\n",
    "firebase.put(\"/tutorial-d6469/Member/-MBaHSButs9VTqYPJjoE\", \"Name\", \"Eric\")\n",
    "\n",
    "print(\"Record Updated\")"
   ]
  },
  {
   "cell_type": "markdown",
   "metadata": {},
   "source": [
    "### Delete"
   ]
  },
  {
   "cell_type": "code",
   "execution_count": 4,
   "metadata": {},
   "outputs": [
    {
     "name": "stdout",
     "output_type": "stream",
     "text": [
      "Record Deleted\n"
     ]
    }
   ],
   "source": [
    "from firebase import firebase\n",
    "\n",
    "firebase = firebase.FirebaseApplication(\"https://tutorial-d6469.firebaseio.com/\", None)\n",
    "\n",
    "firebase.delete(\"/tutorial-d6469/Member/\", \"-MBaKUBaz_yN77KdPlQd\")\n",
    "\n",
    "print(\"Record Deleted\")"
   ]
  }
 ],
 "metadata": {
  "kernelspec": {
   "display_name": "Python 3",
   "language": "python",
   "name": "python3"
  },
  "language_info": {
   "codemirror_mode": {
    "name": "ipython",
    "version": 3
   },
   "file_extension": ".py",
   "mimetype": "text/x-python",
   "name": "python",
   "nbconvert_exporter": "python",
   "pygments_lexer": "ipython3",
   "version": "3.7.6"
  }
 },
 "nbformat": 4,
 "nbformat_minor": 4
}
