{
 "cells": [
  {
   "cell_type": "code",
   "execution_count": 1,
   "metadata": {
    "scrolled": false
   },
   "outputs": [
    {
     "data": {
      "text/plain": [
       "9009"
      ]
     },
     "execution_count": 1,
     "metadata": {},
     "output_type": "execute_result"
    }
   ],
   "source": [
    "def is_palindrome(x):\n",
    "    if str(x) == str(x)[::-1]:\n",
    "        return x\n",
    "\n",
    "def largest_palindrome():\n",
    "    p = []\n",
    "    \n",
    "    for i in range(101):\n",
    "        for j in range(101):\n",
    "            x = i * j\n",
    "            if is_palindrome(x) != None:\n",
    "                if x not in p:\n",
    "                    p.append(x)\n",
    "            j += 1\n",
    "        i += 1\n",
    "    return p\n",
    "\n",
    "largest_palindrome()[-1]"
   ]
  }
 ],
 "metadata": {
  "kernelspec": {
   "display_name": "Python 3",
   "language": "python",
   "name": "python3"
  },
  "language_info": {
   "codemirror_mode": {
    "name": "ipython",
    "version": 3
   },
   "file_extension": ".py",
   "mimetype": "text/x-python",
   "name": "python",
   "nbconvert_exporter": "python",
   "pygments_lexer": "ipython3",
   "version": "3.6.5"
  }
 },
 "nbformat": 4,
 "nbformat_minor": 2
}
