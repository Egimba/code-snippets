{
 "cells": [
  {
   "cell_type": "code",
   "execution_count": 1,
   "metadata": {
    "scrolled": false
   },
   "outputs": [
    {
     "name": "stdout",
     "output_type": "stream",
     "text": [
      "The largest palindrome product of two 4 digit numbers is 99000099 with factors 9999 and 9901\n"
     ]
    }
   ],
   "source": [
    "def is_palindrome(x):\n",
    "    if str(x) == str(x)[::-1]:\n",
    "        return x\n",
    "\n",
    "def largest_palindrome():\n",
    "    i, j = 9999, 9999\n",
    "    while (j >= 1):\n",
    "        x = i * j\n",
    "        if is_palindrome(x):\n",
    "            return print(\"The largest palindrome product of two 4 digit numbers is {} with factors {} and {}\"\\\n",
    "                         .format(x,i,j))\n",
    "        else:\n",
    "            j -= 1\n",
    "    return\n",
    "            \n",
    "largest_palindrome()"
   ]
  }
 ],
 "metadata": {
  "kernelspec": {
   "display_name": "Python 3",
   "language": "python",
   "name": "python3"
  },
  "language_info": {
   "codemirror_mode": {
    "name": "ipython",
    "version": 3
   },
   "file_extension": ".py",
   "mimetype": "text/x-python",
   "name": "python",
   "nbconvert_exporter": "python",
   "pygments_lexer": "ipython3",
   "version": "3.6.5"
  }
 },
 "nbformat": 4,
 "nbformat_minor": 2
}
